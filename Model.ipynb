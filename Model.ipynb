{
 "cells": [
  {
   "cell_type": "code",
   "execution_count": 22,
   "metadata": {
    "colab": {},
    "colab_type": "code",
    "id": "4b36jM0_omiP"
   },
   "outputs": [],
   "source": [
    "import os\n",
    "import sys\n",
    "\n",
    "from keras.models import Model, load_model\n",
    "from keras.layers import Input, LSTM, GRU, Dense, Embedding, Bidirectional \n",
    "from keras.layers import RepeatVector, Concatenate, Activation, Dot, Lambda\n",
    "from keras.preprocessing.text import Tokenizer\n",
    "from keras.preprocessing.sequence import pad_sequences\n",
    "from keras.utils import to_categorical\n",
    "import keras.backend as K\n",
    "\n",
    "import numpy as np\n",
    "import pandas as pd\n",
    "import matplotlib.pyplot as plt"
   ]
  },
  {
   "cell_type": "code",
   "execution_count": 40,
   "metadata": {
    "colab": {},
    "colab_type": "code",
    "id": "Aw681-KPomiU"
   },
   "outputs": [],
   "source": [
    "#CONSTANTS\n",
    "\n",
    "BATCH_SIZE = 64\n",
    "EPOCHS = 30\n",
    "HIDDEN_DIM_ENCODER = 400\n",
    "HIDDEN_DIM_DECODER = 400 \n",
    "MAX_SEQUENCE_LENGTH = 50\n",
    "EMBEDDING_DIM = 100\n",
    "VOCAB_SIZE = 20000\n",
    "NUM_SAMPLES = 20000"
   ]
  },
  {
   "cell_type": "code",
   "execution_count": 24,
   "metadata": {
    "colab": {
     "base_uri": "https://localhost:8080/",
     "height": 34
    },
    "colab_type": "code",
    "id": "lpy5jRwYomiW",
    "outputId": "98eba02e-eabb-42b7-dffc-b05c88471040"
   },
   "outputs": [
    {
     "name": "stdout",
     "output_type": "stream",
     "text": [
      "# of training samples:  20000\n"
     ]
    }
   ],
   "source": [
    "train_csv = pd.read_csv('data/train_data.csv')\n",
    "\n",
    "input_texts = [] # input sentences\n",
    "target_texts = [] # target sentences\n",
    "target_texts_inputs = [] # target sentences to be fed to decoder for teacher forcing\n",
    "\n",
    "t = 0\n",
    "for line in train_csv['inputs'].to_list():\n",
    "    if t == NUM_SAMPLES:\n",
    "        break\n",
    "    if len(line) >= MAX_SEQUENCE_LENGTH:\n",
    "        continue\n",
    "    line = line.rstrip()\n",
    "    input_texts.append(line)\n",
    "    t += 1\n",
    "\n",
    "t = 0\n",
    "for line in train_csv['outputs'].to_list():\n",
    "    if t == NUM_SAMPLES:\n",
    "        break\n",
    "    if len(line) + 1 >= MAX_SEQUENCE_LENGTH:\n",
    "        continue\n",
    "    line = line.rstrip()\n",
    "    target_text = line + ' <eos>'\n",
    "    target_text_input = '<sos> ' + line\n",
    "  \n",
    "    target_texts.append(target_text)\n",
    "    target_texts_inputs.append(target_text_input)\n",
    "    t += 1\n",
    "    \n",
    "m = len(input_texts) \n",
    "print(\"# of training samples: \", m)"
   ]
  },
  {
   "cell_type": "code",
   "execution_count": 25,
   "metadata": {
    "colab": {
     "base_uri": "https://localhost:8080/",
     "height": 34
    },
    "colab_type": "code",
    "id": "2BpQXPb3omiZ",
    "outputId": "2b34fa6f-53f2-4736-a86c-96e58f259f9c"
   },
   "outputs": [
    {
     "name": "stdout",
     "output_type": "stream",
     "text": [
      "Found 7320 unique input tokens.\n",
      "Found 12319 unique target tokens.\n"
     ]
    }
   ],
   "source": [
    "# transform the each input sentence to a sequence of word tokens\n",
    "tokenizer_inputs = Tokenizer(num_words=VOCAB_SIZE)\n",
    "tokenizer_inputs.fit_on_texts(input_texts)\n",
    "input_seq = tokenizer_inputs.texts_to_sequences(input_texts)\n",
    "\n",
    "# create a mapping from words in input to their indices\n",
    "word2idx_inputs = tokenizer_inputs.word_index\n",
    "print('Found %s unique input tokens.' % len(word2idx_inputs))\n",
    "\n",
    "# determine length of longest input sequence\n",
    "Tx = min(max(len(s) for s in input_seq), MAX_SEQUENCE_LENGTH)\n",
    "\n",
    "# transform the each target sentence to a sequence of word tokens\n",
    "tokenizer_target = Tokenizer(num_words=VOCAB_SIZE, filters='') # keep <eos> and <sos> tokens\n",
    "tokenizer_target.fit_on_texts(target_texts + target_texts_inputs) \n",
    "target_seq = tokenizer_target.texts_to_sequences(target_texts)\n",
    "target_seq_inputs = tokenizer_target.texts_to_sequences(target_texts_inputs)\n",
    "\n",
    "# create a mapping from words in target to their indices\n",
    "word2idx_target = tokenizer_target.word_index\n",
    "print('Found %s unique target tokens.' % len(word2idx_target))\n",
    "\n",
    "# determine length of longest target sequence\n",
    "Ty = min(max(len(s) for s in target_seq), MAX_SEQUENCE_LENGTH)"
   ]
  },
  {
   "cell_type": "code",
   "execution_count": 26,
   "metadata": {
    "colab": {
     "base_uri": "https://localhost:8080/",
     "height": 51
    },
    "colab_type": "code",
    "id": "CqjDp64womie",
    "outputId": "a3167e1c-b111-4291-ca2b-eccd5a0c10c3"
   },
   "outputs": [
    {
     "name": "stdout",
     "output_type": "stream",
     "text": [
      "encoder_data.shape: (20000, 15)\n",
      "decoder_data.shape: (20000, 13)\n"
     ]
    }
   ],
   "source": [
    "# pad sequences \n",
    "encoder_inputs = pad_sequences(input_seq, maxlen=Tx)\n",
    "print(\"encoder_data.shape:\", encoder_inputs.shape)\n",
    "\n",
    "decoder_targets = pad_sequences(target_seq, maxlen=Ty, padding='post')\n",
    "\n",
    "decoder_inputs = pad_sequences(target_seq_inputs, maxlen=Ty, padding='post')\n",
    "print(\"decoder_data.shape:\", decoder_inputs.shape)"
   ]
  },
  {
   "cell_type": "code",
   "execution_count": 27,
   "metadata": {
    "colab": {
     "base_uri": "https://localhost:8080/",
     "height": 34
    },
    "colab_type": "code",
    "id": "S1God4-oomig",
    "outputId": "988f73f9-fbbf-459b-ff11-b3ec2099d73b"
   },
   "outputs": [
    {
     "name": "stdout",
     "output_type": "stream",
     "text": [
      "Found 400000 word vectors.\n"
     ]
    }
   ],
   "source": [
    "# create mapping from word to pretrained 100-dim word vector from glove \n",
    "word2vec = {}\n",
    "with open('glove/glove.6B.100d.txt') as f:\n",
    "    for line in f:\n",
    "        values = line.split()\n",
    "        word = values[0]\n",
    "        vec = np.asarray(values[1:], dtype='float32')\n",
    "        word2vec[word] = vec\n",
    "print('Found %s word vectors.' % len(word2vec))"
   ]
  },
  {
   "cell_type": "code",
   "execution_count": 28,
   "metadata": {
    "colab": {},
    "colab_type": "code",
    "id": "NrdED474omij"
   },
   "outputs": [
    {
     "name": "stdout",
     "output_type": "stream",
     "text": [
      "input vocab size:  7321\n",
      "target vocab size:  12320\n"
     ]
    }
   ],
   "source": [
    "# create embedding matrix for input\n",
    "vocab_size = min(VOCAB_SIZE, len(word2idx_inputs) + 1)\n",
    "print('input vocab size: ', vocab_size)\n",
    "embedding_matrix = np.zeros((vocab_size, EMBEDDING_DIM))\n",
    "for word, i in word2idx_inputs.items():\n",
    "    if i < VOCAB_SIZE:\n",
    "        embedding_vector = word2vec.get(word)\n",
    "        if embedding_vector is not None:\n",
    "            embedding_matrix[i] = embedding_vector\n",
    "\n",
    "\n",
    "# create embedding layer\n",
    "embedding_layer = Embedding(\n",
    "  vocab_size,\n",
    "  EMBEDDING_DIM,\n",
    "  weights=[embedding_matrix],\n",
    "  input_length=Tx,\n",
    ")\n",
    "\n",
    "# create different embedding matrix for target\n",
    "vocab_size_target = min(VOCAB_SIZE, len(word2idx_target) + 1)\n",
    "print('target vocab size: ', vocab_size_target)\n",
    "embedding_matrix_target = np.zeros((vocab_size_target, EMBEDDING_DIM))\n",
    "for word, i in word2idx_target.items():\n",
    "    if i < VOCAB_SIZE:\n",
    "        embedding_vector = word2vec.get(word)\n",
    "        if embedding_vector is not None:\n",
    "            embedding_matrix_target[i] = embedding_vector\n",
    "\n",
    "embedding_layer_target = Embedding(\n",
    "  vocab_size_target,\n",
    "  EMBEDDING_DIM,\n",
    "  weights=[embedding_matrix_target],\n",
    "  input_length=Ty,\n",
    ")"
   ]
  },
  {
   "cell_type": "code",
   "execution_count": 29,
   "metadata": {
    "colab": {},
    "colab_type": "code",
    "id": "9tVSqNZ1omil"
   },
   "outputs": [],
   "source": [
    "# one-hot encode target sequences\n",
    "decoder_targets_oh = np.zeros(\n",
    "  (m, Ty, vocab_size_target),\n",
    "  dtype='float32'\n",
    ")\n",
    "\n",
    "for i, d in enumerate(decoder_targets):\n",
    "    for t, word in enumerate(d):\n",
    "        if word > 0:\n",
    "            decoder_targets_oh[i, t, word] = 1        "
   ]
  },
  {
   "cell_type": "code",
   "execution_count": 30,
   "metadata": {
    "colab": {},
    "colab_type": "code",
    "id": "T76FC_nromin"
   },
   "outputs": [],
   "source": [
    "# custom softmax(axis = 1)\n",
    "def softmax_over_time(x):\n",
    "    assert(K.ndim(x) > 2)\n",
    "    e = K.exp(x - K.max(x, axis=1, keepdims=True))\n",
    "    s = K.sum(e, axis=1, keepdims=True)\n",
    "    return e / s\n",
    "\n",
    "# set up encoder\n",
    "encoder_inputs_placeholder = Input(shape=(Tx,))\n",
    "x = embedding_layer(encoder_inputs_placeholder)\n",
    "encoder = Bidirectional(LSTM(\n",
    "  HIDDEN_DIM_ENCODER,\n",
    "  return_sequences=True,\n",
    "  dropout=0.5 \n",
    "))\n",
    "encoder_outputs = encoder(x)\n",
    "\n",
    "#pre attention decoder\n",
    "decoder_inputs_placeholder = Input(shape=(Ty,))\n",
    "decoder_inputs_x = embedding_layer_target(decoder_inputs_placeholder)\n",
    "\n",
    "# attention\n",
    "repeator = RepeatVector(Tx)\n",
    "concatenator = Concatenate(axis=-1)\n",
    "densor1 = Dense(10, activation='tanh')\n",
    "densor2 = Dense(1, activation = softmax_over_time)\n",
    "dotor = Dot(axes=1)\n",
    "\n",
    "def one_step_attention(h, s_prev):\n",
    "    \"\"\"\n",
    "    Arguments:\n",
    "    h -- hidden state returned by encoder (m, Tx, 2*HIDDEN_DIM_ENCODER)\n",
    "    s_prev -- previous hidden state of decoder (m, HIDDEN_DIM_DECODER)\n",
    "    \n",
    "    Returns: \n",
    "    context -- vector used as input to the next decoder cell\n",
    "    \"\"\"\n",
    "    s_prev = repeator(s_prev)\n",
    "    x = concatenator([h, s_prev])\n",
    "    x = densor1(x)\n",
    "    alphas = densor2(x)\n",
    "    context = dotor([alphas, h])\n",
    "\n",
    "    return context\n",
    "\n",
    "#post attention decoder\n",
    "decoder_lstm = LSTM(HIDDEN_DIM_DECODER, return_state=True)\n",
    "decoder_dense = Dense(vocab_size_target, activation='softmax')\n",
    "\n",
    "initial_s = Input(shape=(HIDDEN_DIM_DECODER,), name='s0')\n",
    "initial_c = Input(shape=(HIDDEN_DIM_DECODER,), name='c0')\n",
    "context_prev_word_concatenator = Concatenate(axis=2)"
   ]
  },
  {
   "cell_type": "code",
   "execution_count": 31,
   "metadata": {
    "colab": {},
    "colab_type": "code",
    "id": "yP2xEk03omip"
   },
   "outputs": [],
   "source": [
    "s = initial_s\n",
    "c = initial_c\n",
    "\n",
    "outputs = []\n",
    "for t in range(Ty): \n",
    "    context = one_step_attention(encoder_outputs, s)\n",
    "    selector = Lambda(lambda x: x[:, t:t+1])\n",
    "    prev_word = selector(decoder_inputs_x)\n",
    "    decoder_input = context_prev_word_concatenator([context, prev_word])\n",
    "    o, s, c = decoder_lstm(decoder_input, initial_state=[s,c])\n",
    "    decoder_outputs = decoder_dense(o)\n",
    "    outputs.append(decoder_outputs)\n",
    "\n",
    "def transpose(x):\n",
    "    \"\"\"\n",
    "    Argument: \n",
    "    x -- outputs of decoder (Ty, m, vocab_size_target)\n",
    "    \n",
    "    Returns:\n",
    "    x -- transposed version of outputs (m, Ty, vocab_size_target)\n",
    "    \"\"\"\n",
    "    \n",
    "    x = K.stack(x)\n",
    "    x = K.permute_dimensions(x, pattern=(1,0,2))\n",
    "    return x\n",
    "\n",
    "permuter = Lambda(transpose)\n",
    "outputs = permuter(outputs)\n",
    "\n",
    "model = Model(inputs=[encoder_inputs_placeholder, decoder_inputs_placeholder, initial_s, initial_c], outputs=outputs)\n",
    "\n",
    "def custom_loss(target, pred):\n",
    "    mask = K.cast(target > 0, dtype='float32')\n",
    "    res = mask * target * K.log(pred)\n",
    "    return -K.sum(res) / K.sum(mask)\n",
    "\n",
    "def acc(target, pred):\n",
    "    target_ = K.argmax(target, axis=-1)\n",
    "    pred_ = K.argmax(pred, axis=-1)\n",
    "    res = K.cast(K.equal(target_, pred_), dtype='float32')\n",
    "    #excluding padding from calculation\n",
    "    mask = K.cast(K.greater(target_, 0), dtype='float32')\n",
    "    res_correct = K.sum(mask * res)\n",
    "    res_total = K.sum(mask)\n",
    "    return res_correct / res_total\n",
    "    \n",
    "model.compile(optimizer='adam', loss=custom_loss, metrics=[acc])"
   ]
  },
  {
   "cell_type": "code",
   "execution_count": 41,
   "metadata": {
    "colab": {},
    "colab_type": "code",
    "collapsed": true,
    "id": "VV_u0HYIomis"
   },
   "outputs": [
    {
     "name": "stdout",
     "output_type": "stream",
     "text": [
      "Train on 16000 samples, validate on 4000 samples\n",
      "Epoch 1/30\n",
      "16000/16000 [==============================] - 202s 13ms/step - loss: 2.0308 - acc: 0.5754 - val_loss: 6.2060 - val_acc: 0.2671\n",
      "Epoch 2/30\n",
      "16000/16000 [==============================] - 201s 13ms/step - loss: 1.9410 - acc: 0.5913 - val_loss: 6.2650 - val_acc: 0.2622\n",
      "Epoch 3/30\n",
      "16000/16000 [==============================] - 201s 13ms/step - loss: 1.8517 - acc: 0.6093 - val_loss: 6.3272 - val_acc: 0.2569\n",
      "Epoch 4/30\n",
      "16000/16000 [==============================] - 201s 13ms/step - loss: 1.7704 - acc: 0.6251 - val_loss: 6.3846 - val_acc: 0.2596\n",
      "Epoch 5/30\n",
      "16000/16000 [==============================] - 200s 13ms/step - loss: 1.6867 - acc: 0.6416 - val_loss: 6.4474 - val_acc: 0.2553\n",
      "Epoch 6/30\n",
      "16000/16000 [==============================] - 202s 13ms/step - loss: 1.6109 - acc: 0.6574 - val_loss: 6.5214 - val_acc: 0.2549\n",
      "Epoch 7/30\n",
      "16000/16000 [==============================] - 200s 13ms/step - loss: 1.5355 - acc: 0.6730 - val_loss: 6.5836 - val_acc: 0.2500\n",
      "Epoch 8/30\n",
      "16000/16000 [==============================] - 201s 13ms/step - loss: 1.4613 - acc: 0.6876 - val_loss: 6.6498 - val_acc: 0.2474\n",
      "Epoch 9/30\n",
      "16000/16000 [==============================] - 201s 13ms/step - loss: 1.3895 - acc: 0.7049 - val_loss: 6.6990 - val_acc: 0.2490\n",
      "Epoch 10/30\n",
      "16000/16000 [==============================] - 201s 13ms/step - loss: 1.3212 - acc: 0.7187 - val_loss: 6.7832 - val_acc: 0.2432\n",
      "Epoch 11/30\n",
      "16000/16000 [==============================] - 201s 13ms/step - loss: 1.2573 - acc: 0.7329 - val_loss: 6.8376 - val_acc: 0.2452\n",
      "Epoch 12/30\n",
      "16000/16000 [==============================] - 200s 13ms/step - loss: 1.1943 - acc: 0.7471 - val_loss: 6.9124 - val_acc: 0.2386\n",
      "Epoch 13/30\n",
      "16000/16000 [==============================] - 201s 13ms/step - loss: 1.1377 - acc: 0.7596 - val_loss: 6.9739 - val_acc: 0.2388\n",
      "Epoch 14/30\n",
      "16000/16000 [==============================] - 201s 13ms/step - loss: 1.0795 - acc: 0.7718 - val_loss: 7.0397 - val_acc: 0.2420\n",
      "Epoch 15/30\n",
      "16000/16000 [==============================] - 201s 13ms/step - loss: 1.0220 - acc: 0.7849 - val_loss: 7.1039 - val_acc: 0.2432\n",
      "Epoch 16/30\n",
      "16000/16000 [==============================] - 201s 13ms/step - loss: 0.9714 - acc: 0.7941 - val_loss: 7.1643 - val_acc: 0.2359\n",
      "Epoch 17/30\n",
      "16000/16000 [==============================] - 201s 13ms/step - loss: 0.9205 - acc: 0.8063 - val_loss: 7.2357 - val_acc: 0.2359\n",
      "Epoch 18/30\n",
      "16000/16000 [==============================] - 201s 13ms/step - loss: 0.8744 - acc: 0.8162 - val_loss: 7.3072 - val_acc: 0.2340\n",
      "Epoch 19/30\n",
      "16000/16000 [==============================] - 202s 13ms/step - loss: 0.8290 - acc: 0.8252 - val_loss: 7.3785 - val_acc: 0.2348\n",
      "Epoch 20/30\n",
      "16000/16000 [==============================] - 201s 13ms/step - loss: 0.7843 - acc: 0.8360 - val_loss: 7.4343 - val_acc: 0.2359\n",
      "Epoch 21/30\n",
      "16000/16000 [==============================] - 201s 13ms/step - loss: 0.7444 - acc: 0.8441 - val_loss: 7.5014 - val_acc: 0.2328\n",
      "Epoch 22/30\n",
      "16000/16000 [==============================] - 201s 13ms/step - loss: 0.7067 - acc: 0.8535 - val_loss: 7.5489 - val_acc: 0.2333\n",
      "Epoch 23/30\n",
      "16000/16000 [==============================] - 201s 13ms/step - loss: 0.6694 - acc: 0.8619 - val_loss: 7.6403 - val_acc: 0.2282\n",
      "Epoch 24/30\n",
      "16000/16000 [==============================] - 202s 13ms/step - loss: 0.6385 - acc: 0.8672 - val_loss: 7.7028 - val_acc: 0.2294\n",
      "Epoch 25/30\n",
      "16000/16000 [==============================] - 203s 13ms/step - loss: 0.6025 - acc: 0.8749 - val_loss: 7.7648 - val_acc: 0.2307\n",
      "Epoch 26/30\n",
      "16000/16000 [==============================] - 204s 13ms/step - loss: 0.5737 - acc: 0.8804 - val_loss: 7.8199 - val_acc: 0.2276\n",
      "Epoch 27/30\n",
      "16000/16000 [==============================] - 201s 13ms/step - loss: 0.5433 - acc: 0.8868 - val_loss: 7.8979 - val_acc: 0.2268\n",
      "Epoch 28/30\n",
      "16000/16000 [==============================] - 202s 13ms/step - loss: 0.5169 - acc: 0.8924 - val_loss: 7.9622 - val_acc: 0.2285\n",
      "Epoch 29/30\n",
      "16000/16000 [==============================] - 201s 13ms/step - loss: 0.4919 - acc: 0.8985 - val_loss: 8.0077 - val_acc: 0.2268\n",
      "Epoch 30/30\n",
      "16000/16000 [==============================] - 201s 13ms/step - loss: 0.4643 - acc: 0.9034 - val_loss: 8.0781 - val_acc: 0.2299\n"
     ]
    }
   ],
   "source": [
    "\n",
    "#model = load_model('chatbot_model.h5', custom_objects={'softmax_over_time': softmax_over_time, 't': t})\n",
    "\n",
    "states = np.zeros((m, HIDDEN_DIM_DECODER)) #initial hidden state and cell state\n",
    "res = model.fit(\n",
    "    [encoder_inputs, decoder_inputs, states, states], decoder_targets_oh,\n",
    "    batch_size=BATCH_SIZE,\n",
    "    epochs=EPOCHS,\n",
    "    validation_split=0.2\n",
    ")"
   ]
  },
  {
   "cell_type": "code",
   "execution_count": 42,
   "metadata": {
    "colab": {},
    "colab_type": "code",
    "id": "3kCxQxCBpkp5"
   },
   "outputs": [],
   "source": [
    "model.save('model_60_epochs.h5')\n",
    "model.save_weights('model_60_epochs_weights')"
   ]
  },
  {
   "cell_type": "code",
   "execution_count": 43,
   "metadata": {
    "collapsed": true
   },
   "outputs": [
    {
     "data": {
      "image/png": "[encoded data removed]",
      "text/plain": [
       "<Figure size 432x288 with 1 Axes>"
      ]
     },
     "metadata": {
      "needs_background": "light"
     },
     "output_type": "display_data"
    },
    {
     "data": {
      "image/png": "[encoded data removed]",
      "text/plain": [
       "<Figure size 432x288 with 1 Axes>"
      ]
     },
     "metadata": {
      "needs_background": "light"
     },
     "output_type": "display_data"
    }
   ],
   "source": [
    "#plotting training results\n",
    "plt.plot(res.history['loss'], label='loss')\n",
    "plt.plot(res.history['val_loss'], label='val_loss')\n",
    "plt.legend()\n",
    "plt.show()\n",
    "\n",
    "plt.plot(res.history['acc'], label='acc')\n",
    "plt.plot(res.history['val_acc'], label='val_acc')\n",
    "plt.legend()\n",
    "plt.show()"
   ]
  },
  {
   "cell_type": "code",
   "execution_count": 67,
   "metadata": {},
   "outputs": [],
   "source": [
    "#predictions\n",
    "\n",
    "encoder_model = Model(encoder_inputs_placeholder, encoder_outputs)\n",
    "encoder_to_attention = Input(shape=(Tx, HIDDEN_DIM_ENCODER*2))\n",
    "decoder_inputs_single = Input(shape=(1,))\n",
    "#used for predictions later\n",
    "embedding_layer_target_single = Embedding(vocab_size_target, EMBEDDING_DIM, weights=[embedding_matrix_target])\n",
    "decoder_inputs_single_x = embedding_layer_target_single(decoder_inputs_single)\n",
    "\n",
    "context = one_step_attention(encoder_to_attention, initial_s)\n",
    "decoder_lstm_input = context_prev_word_concatenator([context, decoder_inputs_single_x])\n",
    "\n",
    "o, s, c = decoder_lstm(decoder_lstm_input, initial_state=[initial_s, initial_c])\n",
    "decoder_outputs = decoder_dense(o)\n",
    "\n",
    "decoder_model = Model(inputs=[decoder_inputs_single, encoder_to_attention, initial_s, initial_c], outputs=[decoder_outputs, s, c])\n",
    "\n",
    "idx2word_input = {i:w for w, i in word2idx_inputs.items()}\n",
    "idx2word_target = {i:w for w, i in word2idx_target.items()}\n",
    "\n",
    "def predict_seq(input_seq):\n",
    "    encoder_out = encoder_model.predict(input_seq)\n",
    "    target_seq = np.zeros((1,1))\n",
    "    target_seq[0,0] = word2idx_target['<sos>']\n",
    "    \n",
    "    eos = word2idx_target['<eos>'] #break if eos \n",
    "    \n",
    "    s = np.zeros((1, HIDDEN_DIM_DECODER))\n",
    "    c = np.zeros((1, HIDDEN_DIM_DECODER))\n",
    "    \n",
    "    output_sentence = []\n",
    "    for _ in range(Ty):\n",
    "        o, s, c = decoder_model.predict([target_seq, encoder_out, s, c])\n",
    "        idx = np.argmax(o.flatten())\n",
    "        if eos == idx:\n",
    "            break\n",
    "        word = ''\n",
    "        if idx > 0:\n",
    "            word = idx2word_target[idx]\n",
    "            output_sentence.append(word)\n",
    "        target_seq[0,0] = idx\n",
    "        \n",
    "    return ' '.join(output_sentence)"
   ]
  },
  {
   "cell_type": "code",
   "execution_count": 103,
   "metadata": {},
   "outputs": [],
   "source": [
    "def predict_sentence(text):\n",
    "    text_seq = tokenizer_inputs.texts_to_sequences(text)\n",
    "    text_encoder_input = pad_sequences(text_seq, maxlen=Tx)\n",
    "    print('predicted sentence: ', predict_seq(text_encoder_input))"
   ]
  },
  {
   "cell_type": "code",
   "execution_count": 117,
   "metadata": {},
   "outputs": [],
   "source": [
    "test_inputs = []\n",
    "test_outputs = []\n",
    "for i in range(2000):\n",
    "    test_inputs.append(input_texts[i])\n",
    "    test_outputs.append(predict_seq(encoder_inputs[i:i+1]))\n",
    "    \n",
    "df_test = pd.DataFrame({'inputs': test_inputs, 'outputs': test_outputs})\n",
    "df_test.to_csv('test_results.csv')"
   ]
  },
  {
   "cell_type": "code",
   "execution_count": null,
   "metadata": {},
   "outputs": [],
   "source": []
  }
 ],
 "metadata": {
  "accelerator": "GPU",
  "colab": {
   "machine_shape": "hm",
   "name": "Model.ipynb",
   "provenance": []
  },
  "kernelspec": {
   "display_name": "Python 3",
   "language": "python",
   "name": "python3"
  },
  "language_info": {
   "codemirror_mode": {
    "name": "ipython",
    "version": 3
   },
   "file_extension": ".py",
   "mimetype": "text/x-python",
   "name": "python",
   "nbconvert_exporter": "python",
   "pygments_lexer": "ipython3",
   "version": "3.7.6"
  }
 },
 "nbformat": 4,
 "nbformat_minor": 1
}
