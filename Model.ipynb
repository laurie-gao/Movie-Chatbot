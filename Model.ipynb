{
 "cells": [
  {
   "cell_type": "code",
   "execution_count": 2,
   "metadata": {
    "colab": {},
    "colab_type": "code",
    "id": "4b36jM0_omiP"
   },
   "outputs": [
    {
     "name": "stderr",
     "output_type": "stream",
     "text": [
      "Using TensorFlow backend.\n",
      "[nltk_data] Downloading package punkt to /Users/lauriegao/nltk_data...\n",
      "[nltk_data]   Package punkt is already up-to-date!\n"
     ]
    }
   ],
   "source": [
    "import os\n",
    "import sys\n",
    "\n",
    "from keras.models import Model, load_model\n",
    "from keras.layers import Input, LSTM, GRU, Dense, Embedding, Bidirectional \n",
    "from keras.layers import RepeatVector, Concatenate, Activation, Dot, Lambda\n",
    "from keras.preprocessing.text import Tokenizer\n",
    "from keras.preprocessing.sequence import pad_sequences\n",
    "from keras.utils import to_categorical\n",
    "import keras.backend as K\n",
    "\n",
    "import nltk\n",
    "nltk.download('punkt')\n",
    "from nltk.text import Text\n",
    "from nltk.tokenize import word_tokenize\n",
    "\n",
    "import numpy as np\n",
    "import pandas as pd\n",
    "import matplotlib.pyplot as plt"
   ]
  },
  {
   "cell_type": "code",
   "execution_count": 3,
   "metadata": {
    "colab": {},
    "colab_type": "code",
    "id": "Aw681-KPomiU"
   },
   "outputs": [],
   "source": [
    "#CONSTANTS\n",
    "\n",
    "BATCH_SIZE = 2\n",
    "EPOCHS = 10\n",
    "HIDDEN_DIM_ENCODER = 400\n",
    "HIDDEN_DIM_DECODER = 400 \n",
    "MAX_TEXT_LENGTH = 100\n",
    "EMBEDDING_DIM = 100\n",
    "VOCAB_SIZE = 20000\n",
    "NUM_SAMPLES = 20"
   ]
  },
  {
   "cell_type": "code",
   "execution_count": 4,
   "metadata": {
    "colab": {
     "base_uri": "https://localhost:8080/",
     "height": 34
    },
    "colab_type": "code",
    "id": "lpy5jRwYomiW",
    "outputId": "98eba02e-eabb-42b7-dffc-b05c88471040"
   },
   "outputs": [
    {
     "name": "stdout",
     "output_type": "stream",
     "text": [
      "# of training samples:  20\n"
     ]
    }
   ],
   "source": [
    "train_csv = pd.read_csv('data/train_data.csv')\n",
    "input_list = train_csv['inputs'].to_list()\n",
    "target_list = train_csv['outputs'].to_list()\n",
    "\n",
    "input_texts = [] # input sentences\n",
    "target_texts = [] # target sentences \n",
    "\n",
    "t = 0\n",
    "for i in range(len(input_list)):\n",
    "    if t == NUM_SAMPLES:\n",
    "        break\n",
    "    if len(input_list[i]) >= MAX_TEXT_LENGTH or len(target_list[i]) >= MAX_TEXT_LENGTH:\n",
    "        continue\n",
    "    input_texts.append(input_list[i].rstrip())\n",
    "    target_texts.append(target_list[i].rstrip())\n",
    "    t += 1\n",
    "    \n",
    "m = len(input_texts) \n",
    "print(\"# of training samples: \", m)"
   ]
  },
  {
   "cell_type": "code",
   "execution_count": 5,
   "metadata": {
    "colab": {
     "base_uri": "https://localhost:8080/",
     "height": 34
    },
    "colab_type": "code",
    "id": "2BpQXPb3omiZ",
    "outputId": "2b34fa6f-53f2-4736-a86c-96e58f259f9c"
   },
   "outputs": [
    {
     "name": "stdout",
     "output_type": "stream",
     "text": [
      "Found 137 unique word tokens.\n",
      "Tx:  21\n",
      "Ty:  22\n"
     ]
    }
   ],
   "source": [
    "# transform text to a sequence of word tokens\n",
    "input_seq = [word_tokenize(i) for i in input_texts]\n",
    "target_seq = [word_tokenize(i) for i in target_texts]\n",
    "\n",
    "meta_seq = set([item for sublist in input_seq for item in sublist] + [item for sublist in target_seq for item in sublist] + ['<eos>','<sos>'])\n",
    "\n",
    "# create a mapping from words to their indices\n",
    "word2idx = {}\n",
    "for i, word in enumerate(meta_seq):\n",
    "    word2idx[word] = i\n",
    "print('Found %s unique word tokens.' % len(word2idx))\n",
    "\n",
    "# transform sequence of word tokens to sequence of word indices\n",
    "input_indices = []\n",
    "target_indices = []\n",
    "target_indices_input = [] #target indices to be fed to decoder for teacher forcing\n",
    "\n",
    "for seq in input_seq:\n",
    "    indices = []\n",
    "    for word in seq:\n",
    "        indices.append(word2idx[word])\n",
    "    input_indices.append(indices)\n",
    "\n",
    "for seq in target_seq:\n",
    "    indices = []\n",
    "    for word in seq:\n",
    "        indices.append(word2idx[word])\n",
    "    target_indices.append(indices + [word2idx['<eos>']])\n",
    "    target_indices_input.append([word2idx['<sos>']] + indices)\n",
    "\n",
    "\n",
    "# determine length of longest input and target sequence\n",
    "Tx = max(len(s) for s in input_indices)\n",
    "Ty = max(len(s) for s in target_indices) \n",
    "print('Tx: ', Tx)\n",
    "print('Ty: ', Ty)\n"
   ]
  },
  {
   "cell_type": "code",
   "execution_count": 6,
   "metadata": {
    "colab": {
     "base_uri": "https://localhost:8080/",
     "height": 51
    },
    "colab_type": "code",
    "id": "CqjDp64womie",
    "outputId": "a3167e1c-b111-4291-ca2b-eccd5a0c10c3"
   },
   "outputs": [
    {
     "name": "stdout",
     "output_type": "stream",
     "text": [
      "encoder_data.shape: (20, 21)\n",
      "decoder_data.shape: (20, 22)\n"
     ]
    }
   ],
   "source": [
    "# pad sequences \n",
    "encoder_inputs = pad_sequences(input_indices, maxlen=Tx)\n",
    "print(\"encoder_data.shape:\", encoder_inputs.shape)\n",
    "\n",
    "decoder_targets = pad_sequences(target_indices, maxlen=Ty, padding='post')\n",
    "\n",
    "decoder_inputs = pad_sequences(target_indices_input, maxlen=Ty, padding='post')\n",
    "print(\"decoder_data.shape:\", decoder_inputs.shape)"
   ]
  },
  {
   "cell_type": "code",
   "execution_count": 7,
   "metadata": {
    "colab": {
     "base_uri": "https://localhost:8080/",
     "height": 34
    },
    "colab_type": "code",
    "id": "S1God4-oomig",
    "outputId": "988f73f9-fbbf-459b-ff11-b3ec2099d73b"
   },
   "outputs": [
    {
     "name": "stdout",
     "output_type": "stream",
     "text": [
      "Found 400000 word vectors.\n"
     ]
    }
   ],
   "source": [
    "# create mapping from word to pretrained 100-dim word vector from glove \n",
    "word2vec = {}\n",
    "with open('glove/glove.6B.100d.txt') as f:\n",
    "    for line in f:\n",
    "        values = line.split()\n",
    "        word = values[0]\n",
    "        vec = np.asarray(values[1:], dtype='float32')\n",
    "        word2vec[word] = vec\n",
    "print('Found %s word vectors.' % len(word2vec))"
   ]
  },
  {
   "cell_type": "code",
   "execution_count": 8,
   "metadata": {
    "colab": {},
    "colab_type": "code",
    "id": "NrdED474omij"
   },
   "outputs": [
    {
     "name": "stdout",
     "output_type": "stream",
     "text": [
      "vocab size:  138\n"
     ]
    }
   ],
   "source": [
    "# create embedding matrix\n",
    "vocab_size = min(VOCAB_SIZE, len(word2idx) + 1)\n",
    "print('vocab size: ', vocab_size)\n",
    "embedding_matrix = np.zeros((vocab_size, EMBEDDING_DIM))\n",
    "for word, i in word2idx.items():\n",
    "    if i < VOCAB_SIZE:\n",
    "        embedding_vector = word2vec.get(word)\n",
    "        if embedding_vector is not None:\n",
    "            embedding_matrix[i] = embedding_vector\n",
    "\n",
    "\n",
    "# create embedding layer\n",
    "embedding_layer = Embedding(\n",
    "  vocab_size,\n",
    "  EMBEDDING_DIM,\n",
    "  weights=[embedding_matrix],\n",
    "  trainable=False  \n",
    ")"
   ]
  },
  {
   "cell_type": "code",
   "execution_count": 9,
   "metadata": {
    "colab": {},
    "colab_type": "code",
    "id": "9tVSqNZ1omil"
   },
   "outputs": [],
   "source": [
    "# one-hot encode target sequences\n",
    "decoder_targets_oh = np.zeros(\n",
    "  (m, Ty, vocab_size),\n",
    "  dtype='float32'\n",
    ")\n",
    "\n",
    "for i, d in enumerate(decoder_targets):\n",
    "    for t, word in enumerate(d):\n",
    "        if word > 0:\n",
    "            decoder_targets_oh[i, t, word] = 1        "
   ]
  },
  {
   "cell_type": "code",
   "execution_count": 10,
   "metadata": {
    "colab": {},
    "colab_type": "code",
    "id": "T76FC_nromin"
   },
   "outputs": [],
   "source": [
    "# custom softmax(axis = 1)\n",
    "def softmax_over_time(x):\n",
    "    assert(K.ndim(x) > 2)\n",
    "    e = K.exp(x - K.max(x, axis=1, keepdims=True))\n",
    "    s = K.sum(e, axis=1, keepdims=True)\n",
    "    return e / s\n",
    "\n",
    "# set up encoder\n",
    "encoder_inputs_placeholder = Input(shape=(Tx,))\n",
    "x = embedding_layer(encoder_inputs_placeholder)\n",
    "encoder = Bidirectional(LSTM(\n",
    "  HIDDEN_DIM_ENCODER,\n",
    "  return_sequences=True,\n",
    "  dropout=0.5 \n",
    "))\n",
    "encoder_outputs = encoder(x)\n",
    "\n",
    "#pre attention decoder\n",
    "decoder_inputs_placeholder = Input(shape=(Ty,))\n",
    "decoder_inputs_x = embedding_layer(decoder_inputs_placeholder)\n",
    "\n",
    "# attention\n",
    "repeator = RepeatVector(Tx)\n",
    "concatenator = Concatenate(axis=-1)\n",
    "densor1 = Dense(10, activation='tanh')\n",
    "densor2 = Dense(1, activation = 'relu')\n",
    "activator = Activation(softmax_over_time, name='attention_weights')\n",
    "dotor = Dot(axes=1)\n",
    "\n",
    "def one_step_attention(h, s_prev):\n",
    "    \"\"\"\n",
    "    Arguments:\n",
    "    h -- hidden state returned by encoder (m, Tx, 2*HIDDEN_DIM_ENCODER)\n",
    "    s_prev -- previous hidden state of decoder (m, HIDDEN_DIM_DECODER)\n",
    "    \n",
    "    Returns: \n",
    "    context -- vector used as input to the next decoder cell\n",
    "    \"\"\"\n",
    "    s_prev = repeator(s_prev)\n",
    "    x = concatenator([h, s_prev])\n",
    "    x = densor1(x)\n",
    "    e = densor2(x)\n",
    "    alphas = activator(e)\n",
    "    context = dotor([alphas, h])\n",
    "\n",
    "    return context\n",
    "\n",
    "#post attention decoder\n",
    "decoder_lstm = LSTM(HIDDEN_DIM_DECODER, return_state=True)\n",
    "decoder_dense = Dense(vocab_size, activation='softmax')\n",
    "\n",
    "initial_s = Input(shape=(HIDDEN_DIM_DECODER,), name='s0')\n",
    "initial_c = Input(shape=(HIDDEN_DIM_DECODER,), name='c0')\n",
    "context_prev_word_concatenator = Concatenate(axis=2)"
   ]
  },
  {
   "cell_type": "code",
   "execution_count": 11,
   "metadata": {
    "colab": {},
    "colab_type": "code",
    "id": "yP2xEk03omip"
   },
   "outputs": [],
   "source": [
    "s = initial_s\n",
    "c = initial_c\n",
    "\n",
    "outputs = []\n",
    "for t in range(Ty): \n",
    "    context = one_step_attention(encoder_outputs, s)\n",
    "    selector = Lambda(lambda x: x[:, t:t+1])\n",
    "    prev_word = selector(decoder_inputs_x)\n",
    "    decoder_input = context_prev_word_concatenator([context, prev_word])\n",
    "    o, s, c = decoder_lstm(decoder_input, initial_state=[s,c])\n",
    "    decoder_outputs = decoder_dense(o)\n",
    "    outputs.append(decoder_outputs)\n",
    "\n",
    "def transpose(x):\n",
    "    \"\"\"\n",
    "    Argument: \n",
    "    x -- outputs of decoder (Ty, m, vocab_size_target)\n",
    "    \n",
    "    Returns:\n",
    "    x -- transposed version of outputs (m, Ty, vocab_size_target)\n",
    "    \"\"\"\n",
    "    \n",
    "    x = K.stack(x)\n",
    "    x = K.permute_dimensions(x, pattern=(1,0,2))\n",
    "    return x\n",
    "\n",
    "permuter = Lambda(transpose)\n",
    "outputs = permuter(outputs)\n",
    "\n",
    "model = Model(inputs=[encoder_inputs_placeholder, decoder_inputs_placeholder, initial_s, initial_c], outputs=outputs)\n",
    "\n",
    "def custom_loss(target, pred):\n",
    "    mask = K.cast(target > 0, dtype='float32')\n",
    "    res = mask * target * K.log(pred)\n",
    "    return -K.sum(res) / K.sum(mask)\n",
    "\n",
    "def acc(target, pred):\n",
    "    target_ = K.argmax(target, axis=-1)\n",
    "    pred_ = K.argmax(pred, axis=-1)\n",
    "    res = K.cast(K.equal(target_, pred_), dtype='float32')\n",
    "    #excluding padding from calculation\n",
    "    mask = K.cast(K.greater(target_, 0), dtype='float32')\n",
    "    res_correct = K.sum(mask * res)\n",
    "    res_total = K.sum(mask)\n",
    "    return res_correct / res_total\n",
    "    \n",
    "model.compile(optimizer='adam', loss=custom_loss, metrics=[acc])"
   ]
  },
  {
   "cell_type": "code",
   "execution_count": 13,
   "metadata": {
    "colab": {},
    "colab_type": "code",
    "id": "VV_u0HYIomis"
   },
   "outputs": [
    {
     "name": "stdout",
     "output_type": "stream",
     "text": [
      "Train on 16 samples, validate on 4 samples\n",
      "Epoch 1/10\n",
      "16/16 [==============================] - 3s 187ms/step - loss: 2.3763 - acc: 0.4011 - val_loss: 4.8165 - val_acc: 0.2250\n",
      "Epoch 2/10\n",
      "16/16 [==============================] - 3s 191ms/step - loss: 2.2275 - acc: 0.4301 - val_loss: 5.0870 - val_acc: 0.2250\n",
      "Epoch 3/10\n",
      "16/16 [==============================] - 3s 195ms/step - loss: 2.0315 - acc: 0.4165 - val_loss: 5.0725 - val_acc: 0.2250\n",
      "Epoch 4/10\n",
      "16/16 [==============================] - 3s 192ms/step - loss: 1.8128 - acc: 0.4466 - val_loss: 5.3756 - val_acc: 0.1625\n",
      "Epoch 5/10\n",
      "16/16 [==============================] - 3s 187ms/step - loss: 1.7962 - acc: 0.5470 - val_loss: 5.4554 - val_acc: 0.2250\n",
      "Epoch 6/10\n",
      "16/16 [==============================] - 3s 180ms/step - loss: 1.6362 - acc: 0.5730 - val_loss: 5.6356 - val_acc: 0.1625\n",
      "Epoch 7/10\n",
      "16/16 [==============================] - 3s 181ms/step - loss: 1.3020 - acc: 0.7345 - val_loss: 5.6365 - val_acc: 0.2250\n",
      "Epoch 8/10\n",
      "16/16 [==============================] - 3s 160ms/step - loss: 1.1951 - acc: 0.7211 - val_loss: 5.7431 - val_acc: 0.1625\n",
      "Epoch 9/10\n",
      "16/16 [==============================] - 3s 157ms/step - loss: 1.0359 - acc: 0.7991 - val_loss: 6.0819 - val_acc: 0.0500\n",
      "Epoch 10/10\n",
      "16/16 [==============================] - 3s 157ms/step - loss: 0.9111 - acc: 0.8115 - val_loss: 6.0499 - val_acc: 0.1125\n"
     ]
    }
   ],
   "source": [
    "states = np.zeros((m, HIDDEN_DIM_DECODER)) #initial hidden state and cell state\n",
    "res = model.fit(\n",
    "    [encoder_inputs, decoder_inputs, states, states], decoder_targets_oh,\n",
    "    batch_size=BATCH_SIZE,\n",
    "    epochs=EPOCHS,\n",
    "    validation_split=0.2\n",
    ")"
   ]
  },
  {
   "cell_type": "code",
   "execution_count": 42,
   "metadata": {
    "colab": {},
    "colab_type": "code",
    "id": "3kCxQxCBpkp5"
   },
   "outputs": [],
   "source": [
    "model.save('model_60_epochs.h5')\n",
    "model.save_weights('model_60_epochs_weights')"
   ]
  },
  {
   "cell_type": "code",
   "execution_count": 148,
   "metadata": {
    "collapsed": true
   },
   "outputs": [
    {
     "data": {
      "image/png": "[encoded data removed]",
      "text/plain": [
       "<Figure size 432x288 with 1 Axes>"
      ]
     },
     "metadata": {
      "needs_background": "light"
     },
     "output_type": "display_data"
    },
    {
     "data": {
      "image/png": "[encoded data removed]",
      "text/plain": [
       "<Figure size 432x288 with 1 Axes>"
      ]
     },
     "metadata": {
      "needs_background": "light"
     },
     "output_type": "display_data"
    }
   ],
   "source": [
    "#plotting training results\n",
    "plt.plot(res.history['loss'], label='loss')\n",
    "plt.plot(res.history['val_loss'], label='val_loss')\n",
    "plt.legend()\n",
    "plt.show()\n",
    "\n",
    "plt.plot(res.history['acc'], label='acc')\n",
    "plt.plot(res.history['val_acc'], label='val_acc')\n",
    "plt.legend()\n",
    "plt.show()"
   ]
  },
  {
   "cell_type": "code",
   "execution_count": 22,
   "metadata": {},
   "outputs": [],
   "source": [
    "#predictions model\n",
    "\n",
    "#encoder model will be standalone \n",
    "encoder_model = Model(encoder_inputs_placeholder, encoder_outputs)\n",
    "encoder_to_attention = Input(shape=(Tx, HIDDEN_DIM_ENCODER*2))\n",
    "decoder_inputs_single = Input(shape=(1,))\n",
    "decoder_inputs_single_x = embedding_layer(decoder_inputs_single)\n",
    "\n",
    "context = one_step_attention(encoder_to_attention, initial_s)\n",
    "decoder_lstm_input = context_prev_word_concatenator([context, decoder_inputs_single_x])\n",
    "\n",
    "o, s, c = decoder_lstm(decoder_lstm_input, initial_state=[initial_s, initial_c])\n",
    "decoder_outputs = decoder_dense(o)\n",
    "\n",
    "decoder_model = Model(inputs=[decoder_inputs_single, encoder_to_attention, initial_s, initial_c], outputs=[decoder_outputs, s, c])"
   ]
  },
  {
   "cell_type": "code",
   "execution_count": 23,
   "metadata": {},
   "outputs": [],
   "source": [
    "idx2word = {i:w for w, i in word2idx.items()}\n",
    "\n",
    "def predict_seq(input_indices):\n",
    "    encoder_out = encoder_model.predict(input_indices.reshape(1,21))\n",
    "    target_seq = np.zeros((1,1))\n",
    "    target_seq[0,0] = word2idx_target['<sos>']\n",
    "    \n",
    "    eos = word2idx['<eos>'] #break if eos \n",
    "    \n",
    "    s = np.zeros((1, HIDDEN_DIM_DECODER))\n",
    "    c = np.zeros((1, HIDDEN_DIM_DECODER))\n",
    "    \n",
    "    output_sentence = []\n",
    "    for _ in range(Ty):\n",
    "        o, s, c = decoder_model.predict([target_seq, encoder_out, s, c])\n",
    "        idx = np.argmax(o.flatten())\n",
    "        if idx == eos:\n",
    "            break\n",
    "        word = ''\n",
    "        if idx > 0:\n",
    "            word = idx2word[idx]\n",
    "            output_sentence.append(word)\n",
    "        target_seq[0,0] = idx\n",
    "        \n",
    "    return ' '.join(output_sentence)"
   ]
  },
  {
   "cell_type": "code",
   "execution_count": 63,
   "metadata": {},
   "outputs": [],
   "source": [
    "# %load utils/plot_attention_map.py"
   ]
  },
  {
   "cell_type": "code",
   "execution_count": 64,
   "metadata": {},
   "outputs": [
    {
     "name": "stdout",
     "output_type": "stream",
     "text": [
      "<tensorflow.python.keras.backend.EagerExecutionFunction object at 0x1b0e4fef0>\n"
     ]
    },
    {
     "ename": "ValueError",
     "evalue": "Arguments and signature arguments do not match. got: 17, expected: 18 ",
     "output_type": "error",
     "traceback": [
      "\u001b[0;31m---------------------------------------------------------------------------\u001b[0m",
      "\u001b[0;31mValueError\u001b[0m                                Traceback (most recent call last)",
      "\u001b[0;32m<ipython-input-64-0765208bc91a>\u001b[0m in \u001b[0;36m<module>\u001b[0;34m\u001b[0m\n\u001b[0;32m----> 1\u001b[0;31m \u001b[0mplot_attention_map\u001b[0m\u001b[0;34m(\u001b[0m\u001b[0mmodel\u001b[0m\u001b[0;34m,\u001b[0m \u001b[0mword2idx\u001b[0m\u001b[0;34m,\u001b[0m \u001b[0minput_texts\u001b[0m\u001b[0;34m[\u001b[0m\u001b[0;36m6\u001b[0m\u001b[0;34m]\u001b[0m\u001b[0;34m,\u001b[0m \u001b[0mHIDDEN_DIM_ENCODER\u001b[0m\u001b[0;34m,\u001b[0m \u001b[0;36m9\u001b[0m\u001b[0;34m,\u001b[0m \u001b[0mTx\u001b[0m\u001b[0;34m,\u001b[0m \u001b[0mTy\u001b[0m\u001b[0;34m)\u001b[0m\u001b[0;34m\u001b[0m\u001b[0;34m\u001b[0m\u001b[0m\n\u001b[0m",
      "\u001b[0;32m<ipython-input-63-4959899830d3>\u001b[0m in \u001b[0;36mplot_attention_map\u001b[0;34m(model, word2idx, text, n_s, num, Tx, Ty)\u001b[0m\n\u001b[1;32m     20\u001b[0m     \u001b[0mf\u001b[0m \u001b[0;34m=\u001b[0m \u001b[0mK\u001b[0m\u001b[0;34m.\u001b[0m\u001b[0mfunction\u001b[0m\u001b[0;34m(\u001b[0m\u001b[0mmodel\u001b[0m\u001b[0;34m.\u001b[0m\u001b[0minputs\u001b[0m\u001b[0;34m,\u001b[0m \u001b[0;34m[\u001b[0m\u001b[0mlayer\u001b[0m\u001b[0;34m.\u001b[0m\u001b[0mget_output_at\u001b[0m\u001b[0;34m(\u001b[0m\u001b[0mt\u001b[0m\u001b[0;34m)\u001b[0m \u001b[0;32mfor\u001b[0m \u001b[0mt\u001b[0m \u001b[0;32min\u001b[0m \u001b[0mrange\u001b[0m\u001b[0;34m(\u001b[0m\u001b[0mTy\u001b[0m\u001b[0;34m)\u001b[0m\u001b[0;34m]\u001b[0m\u001b[0;34m)\u001b[0m\u001b[0;34m\u001b[0m\u001b[0;34m\u001b[0m\u001b[0m\n\u001b[1;32m     21\u001b[0m     \u001b[0mprint\u001b[0m\u001b[0;34m(\u001b[0m\u001b[0mf\u001b[0m\u001b[0;34m)\u001b[0m\u001b[0;34m\u001b[0m\u001b[0;34m\u001b[0m\u001b[0m\n\u001b[0;32m---> 22\u001b[0;31m     \u001b[0mr\u001b[0m \u001b[0;34m=\u001b[0m \u001b[0mf\u001b[0m\u001b[0;34m(\u001b[0m\u001b[0;34m[\u001b[0m\u001b[0mencoded\u001b[0m\u001b[0;34m,\u001b[0m \u001b[0ms0\u001b[0m\u001b[0;34m,\u001b[0m \u001b[0mc0\u001b[0m\u001b[0;34m]\u001b[0m\u001b[0;34m)\u001b[0m\u001b[0;34m\u001b[0m\u001b[0;34m\u001b[0m\u001b[0m\n\u001b[0m\u001b[1;32m     23\u001b[0m \u001b[0;34m\u001b[0m\u001b[0m\n\u001b[1;32m     24\u001b[0m     \u001b[0;32mfor\u001b[0m \u001b[0mt\u001b[0m \u001b[0;32min\u001b[0m \u001b[0mrange\u001b[0m\u001b[0;34m(\u001b[0m\u001b[0mTy\u001b[0m\u001b[0;34m)\u001b[0m\u001b[0;34m:\u001b[0m\u001b[0;34m\u001b[0m\u001b[0;34m\u001b[0m\u001b[0m\n",
      "\u001b[0;32m~/anaconda3/lib/python3.7/site-packages/tensorflow_core/python/keras/backend.py\u001b[0m in \u001b[0;36m__call__\u001b[0;34m(self, inputs)\u001b[0m\n\u001b[1;32m   3738\u001b[0m         \u001b[0mvalue\u001b[0m \u001b[0;34m=\u001b[0m \u001b[0mmath_ops\u001b[0m\u001b[0;34m.\u001b[0m\u001b[0mcast\u001b[0m\u001b[0;34m(\u001b[0m\u001b[0mvalue\u001b[0m\u001b[0;34m,\u001b[0m \u001b[0mtensor\u001b[0m\u001b[0;34m.\u001b[0m\u001b[0mdtype\u001b[0m\u001b[0;34m)\u001b[0m\u001b[0;34m\u001b[0m\u001b[0;34m\u001b[0m\u001b[0m\n\u001b[1;32m   3739\u001b[0m       \u001b[0mconverted_inputs\u001b[0m\u001b[0;34m.\u001b[0m\u001b[0mappend\u001b[0m\u001b[0;34m(\u001b[0m\u001b[0mvalue\u001b[0m\u001b[0;34m)\u001b[0m\u001b[0;34m\u001b[0m\u001b[0;34m\u001b[0m\u001b[0m\n\u001b[0;32m-> 3740\u001b[0;31m     \u001b[0moutputs\u001b[0m \u001b[0;34m=\u001b[0m \u001b[0mself\u001b[0m\u001b[0;34m.\u001b[0m\u001b[0m_graph_fn\u001b[0m\u001b[0;34m(\u001b[0m\u001b[0;34m*\u001b[0m\u001b[0mconverted_inputs\u001b[0m\u001b[0;34m)\u001b[0m\u001b[0;34m\u001b[0m\u001b[0;34m\u001b[0m\u001b[0m\n\u001b[0m\u001b[1;32m   3741\u001b[0m \u001b[0;34m\u001b[0m\u001b[0m\n\u001b[1;32m   3742\u001b[0m     \u001b[0;31m# EagerTensor.numpy() will often make a copy to ensure memory safety.\u001b[0m\u001b[0;34m\u001b[0m\u001b[0;34m\u001b[0m\u001b[0;34m\u001b[0m\u001b[0m\n",
      "\u001b[0;32m~/anaconda3/lib/python3.7/site-packages/tensorflow_core/python/eager/function.py\u001b[0m in \u001b[0;36m__call__\u001b[0;34m(self, *args, **kwargs)\u001b[0m\n\u001b[1;32m   1079\u001b[0m       \u001b[0mTypeError\u001b[0m\u001b[0;34m:\u001b[0m \u001b[0mFor\u001b[0m \u001b[0minvalid\u001b[0m \u001b[0mpositional\u001b[0m\u001b[0;34m/\u001b[0m\u001b[0mkeyword\u001b[0m \u001b[0margument\u001b[0m \u001b[0mcombinations\u001b[0m\u001b[0;34m.\u001b[0m\u001b[0;34m\u001b[0m\u001b[0;34m\u001b[0m\u001b[0m\n\u001b[1;32m   1080\u001b[0m     \"\"\"\n\u001b[0;32m-> 1081\u001b[0;31m     \u001b[0;32mreturn\u001b[0m \u001b[0mself\u001b[0m\u001b[0;34m.\u001b[0m\u001b[0m_call_impl\u001b[0m\u001b[0;34m(\u001b[0m\u001b[0margs\u001b[0m\u001b[0;34m,\u001b[0m \u001b[0mkwargs\u001b[0m\u001b[0;34m)\u001b[0m\u001b[0;34m\u001b[0m\u001b[0;34m\u001b[0m\u001b[0m\n\u001b[0m\u001b[1;32m   1082\u001b[0m \u001b[0;34m\u001b[0m\u001b[0m\n\u001b[1;32m   1083\u001b[0m   \u001b[0;32mdef\u001b[0m \u001b[0m_call_impl\u001b[0m\u001b[0;34m(\u001b[0m\u001b[0mself\u001b[0m\u001b[0;34m,\u001b[0m \u001b[0margs\u001b[0m\u001b[0;34m,\u001b[0m \u001b[0mkwargs\u001b[0m\u001b[0;34m,\u001b[0m \u001b[0mcancellation_manager\u001b[0m\u001b[0;34m=\u001b[0m\u001b[0;32mNone\u001b[0m\u001b[0;34m)\u001b[0m\u001b[0;34m:\u001b[0m\u001b[0;34m\u001b[0m\u001b[0;34m\u001b[0m\u001b[0m\n",
      "\u001b[0;32m~/anaconda3/lib/python3.7/site-packages/tensorflow_core/python/eager/function.py\u001b[0m in \u001b[0;36m_call_impl\u001b[0;34m(self, args, kwargs, cancellation_manager)\u001b[0m\n\u001b[1;32m   1119\u001b[0m       raise TypeError(\"Keyword arguments {} unknown. Expected {}.\".format(\n\u001b[1;32m   1120\u001b[0m           list(kwargs.keys()), list(self._arg_keywords)))\n\u001b[0;32m-> 1121\u001b[0;31m     \u001b[0;32mreturn\u001b[0m \u001b[0mself\u001b[0m\u001b[0;34m.\u001b[0m\u001b[0m_call_flat\u001b[0m\u001b[0;34m(\u001b[0m\u001b[0margs\u001b[0m\u001b[0;34m,\u001b[0m \u001b[0mself\u001b[0m\u001b[0;34m.\u001b[0m\u001b[0mcaptured_inputs\u001b[0m\u001b[0;34m,\u001b[0m \u001b[0mcancellation_manager\u001b[0m\u001b[0;34m)\u001b[0m\u001b[0;34m\u001b[0m\u001b[0;34m\u001b[0m\u001b[0m\n\u001b[0m\u001b[1;32m   1122\u001b[0m \u001b[0;34m\u001b[0m\u001b[0m\n\u001b[1;32m   1123\u001b[0m   \u001b[0;32mdef\u001b[0m \u001b[0m_filtered_call\u001b[0m\u001b[0;34m(\u001b[0m\u001b[0mself\u001b[0m\u001b[0;34m,\u001b[0m \u001b[0margs\u001b[0m\u001b[0;34m,\u001b[0m \u001b[0mkwargs\u001b[0m\u001b[0;34m)\u001b[0m\u001b[0;34m:\u001b[0m\u001b[0;34m\u001b[0m\u001b[0;34m\u001b[0m\u001b[0m\n",
      "\u001b[0;32m~/anaconda3/lib/python3.7/site-packages/tensorflow_core/python/eager/function.py\u001b[0m in \u001b[0;36m_call_flat\u001b[0;34m(self, args, captured_inputs, cancellation_manager)\u001b[0m\n\u001b[1;32m   1222\u001b[0m     \u001b[0;32mif\u001b[0m \u001b[0mexecuting_eagerly\u001b[0m\u001b[0;34m:\u001b[0m\u001b[0;34m\u001b[0m\u001b[0;34m\u001b[0m\u001b[0m\n\u001b[1;32m   1223\u001b[0m       flat_outputs = forward_function.call(\n\u001b[0;32m-> 1224\u001b[0;31m           ctx, args, cancellation_manager=cancellation_manager)\n\u001b[0m\u001b[1;32m   1225\u001b[0m     \u001b[0;32melse\u001b[0m\u001b[0;34m:\u001b[0m\u001b[0;34m\u001b[0m\u001b[0;34m\u001b[0m\u001b[0m\n\u001b[1;32m   1226\u001b[0m       \u001b[0mgradient_name\u001b[0m \u001b[0;34m=\u001b[0m \u001b[0mself\u001b[0m\u001b[0;34m.\u001b[0m\u001b[0m_delayed_rewrite_functions\u001b[0m\u001b[0;34m.\u001b[0m\u001b[0mregister\u001b[0m\u001b[0;34m(\u001b[0m\u001b[0;34m)\u001b[0m\u001b[0;34m\u001b[0m\u001b[0;34m\u001b[0m\u001b[0m\n",
      "\u001b[0;32m~/anaconda3/lib/python3.7/site-packages/tensorflow_core/python/eager/function.py\u001b[0m in \u001b[0;36mcall\u001b[0;34m(self, ctx, args, cancellation_manager)\u001b[0m\n\u001b[1;32m    491\u001b[0m           \u001b[0;34m\"Arguments and signature arguments do not match. \"\u001b[0m\u001b[0;34m\u001b[0m\u001b[0;34m\u001b[0m\u001b[0m\n\u001b[1;32m    492\u001b[0m           \u001b[0;34m\"got: %s, expected: %s \"\u001b[0m \u001b[0;34m%\u001b[0m\u001b[0;34m\u001b[0m\u001b[0;34m\u001b[0m\u001b[0m\n\u001b[0;32m--> 493\u001b[0;31m           (len(args), len(list(self.signature.input_arg))))\n\u001b[0m\u001b[1;32m    494\u001b[0m \u001b[0;34m\u001b[0m\u001b[0m\n\u001b[1;32m    495\u001b[0m     \u001b[0mfunction_call_options\u001b[0m \u001b[0;34m=\u001b[0m \u001b[0mctx\u001b[0m\u001b[0;34m.\u001b[0m\u001b[0mfunction_call_options\u001b[0m\u001b[0;34m\u001b[0m\u001b[0;34m\u001b[0m\u001b[0m\n",
      "\u001b[0;31mValueError\u001b[0m: Arguments and signature arguments do not match. got: 17, expected: 18 "
     ]
    }
   ],
   "source": [
    "plot_attention_map(model, word2idx, input_texts[6], HIDDEN_DIM_ENCODER, 9, Tx, Ty)"
   ]
  },
  {
   "cell_type": "code",
   "execution_count": null,
   "metadata": {},
   "outputs": [],
   "source": [
    "test_inputs = []\n",
    "test_outputs = []\n",
    "for i in range(2000):\n",
    "    test_inputs.append(input_texts[i])\n",
    "    test_outputs.append(predict_seq(encoder_inputs[i:i+1]))\n",
    "    \n",
    "df_test = pd.DataFrame({'inputs': test_inputs, 'outputs': test_outputs})\n",
    "df_test.to_csv('test_results.csv')"
   ]
  }
 ],
 "metadata": {
  "accelerator": "GPU",
  "colab": {
   "machine_shape": "hm",
   "name": "Model.ipynb",
   "provenance": []
  },
  "kernelspec": {
   "display_name": "Python 3",
   "language": "python",
   "name": "python3"
  },
  "language_info": {
   "codemirror_mode": {
    "name": "ipython",
    "version": 3
   },
   "file_extension": ".py",
   "mimetype": "text/x-python",
   "name": "python",
   "nbconvert_exporter": "python",
   "pygments_lexer": "ipython3",
   "version": "3.7.3"
  }
 },
 "nbformat": 4,
 "nbformat_minor": 1
}
