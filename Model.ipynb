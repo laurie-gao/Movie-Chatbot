{
 "cells": [
  {
   "cell_type": "code",
   "execution_count": 2,
   "metadata": {
    "colab": {},
    "colab_type": "code",
    "id": "4b36jM0_omiP"
   },
   "outputs": [
    {
     "name": "stderr",
     "output_type": "stream",
     "text": [
      "Using TensorFlow backend.\n",
      "[nltk_data] Downloading package punkt to /Users/laurie/nltk_data...\n",
      "[nltk_data]   Package punkt is already up-to-date!\n"
     ]
    }
   ],
   "source": [
    "import os\n",
    "import sys\n",
    "\n",
    "from keras.models import Model, load_model\n",
    "from keras.layers import Input, LSTM, GRU, Dense, Embedding, Bidirectional \n",
    "from keras.layers import RepeatVector, Concatenate, Activation, Dot, Lambda\n",
    "from keras.preprocessing.text import Tokenizer\n",
    "from keras.preprocessing.sequence import pad_sequences\n",
    "from keras.utils import to_categorical\n",
    "import keras.backend as K\n",
    "\n",
    "import nltk\n",
    "nltk.download('punkt')\n",
    "from nltk.text import Text\n",
    "from nltk.tokenize import word_tokenize\n",
    "\n",
    "import numpy as np\n",
    "import pandas as pd\n",
    "import matplotlib.pyplot as plt"
   ]
  },
  {
   "cell_type": "code",
   "execution_count": 12,
   "metadata": {
    "colab": {},
    "colab_type": "code",
    "id": "Aw681-KPomiU"
   },
   "outputs": [],
   "source": [
    "#CONSTANTS\n",
    "\n",
    "BATCH_SIZE = 32\n",
    "EPOCHS = 50\n",
    "HIDDEN_DIM_ENCODER = 400\n",
    "HIDDEN_DIM_DECODER = 400 \n",
    "MAX_TEXT_LENGTH = 100\n",
    "EMBEDDING_DIM = 100\n",
    "NUM_SAMPLES = 20000"
   ]
  },
  {
   "cell_type": "code",
   "execution_count": 4,
   "metadata": {
    "colab": {
     "base_uri": "https://localhost:8080/",
     "height": 34
    },
    "colab_type": "code",
    "id": "lpy5jRwYomiW",
    "outputId": "98eba02e-eabb-42b7-dffc-b05c88471040"
   },
   "outputs": [
    {
     "name": "stdout",
     "output_type": "stream",
     "text": [
      "# of training samples:  20000\n"
     ]
    }
   ],
   "source": [
    "train_csv = pd.read_csv('data/train_data.csv')\n",
    "input_list = train_csv['inputs'].to_list()\n",
    "target_list = train_csv['outputs'].to_list()\n",
    "\n",
    "input_texts = [] # input sentences\n",
    "target_texts = [] # target sentences \n",
    "\n",
    "t = 0\n",
    "for i in range(len(input_list)):\n",
    "    if t == NUM_SAMPLES:\n",
    "        break\n",
    "    if len(input_list[i]) >= MAX_TEXT_LENGTH or len(target_list[i]) >= MAX_TEXT_LENGTH:\n",
    "        continue\n",
    "    input_texts.append(input_list[i].rstrip())\n",
    "    target_texts.append(target_list[i].rstrip())\n",
    "    t += 1\n",
    "    \n",
    "m = len(input_texts) \n",
    "print(\"# of training samples: \", m)"
   ]
  },
  {
   "cell_type": "code",
   "execution_count": 5,
   "metadata": {
    "colab": {
     "base_uri": "https://localhost:8080/",
     "height": 34
    },
    "colab_type": "code",
    "id": "2BpQXPb3omiZ",
    "outputId": "2b34fa6f-53f2-4736-a86c-96e58f259f9c"
   },
   "outputs": [
    {
     "name": "stdout",
     "output_type": "stream",
     "text": [
      "vocab size:  15026\n",
      "Tx:  30\n",
      "Ty:  31\n"
     ]
    }
   ],
   "source": [
    "# transform text to a sequence of word tokens\n",
    "input_seq = [word_tokenize(i) for i in input_texts]\n",
    "target_seq = [word_tokenize(i) for i in target_texts]\n",
    "\n",
    "meta_seq = set([item for sublist in input_seq for item in sublist] + [item for sublist in target_seq for item in sublist] + ['<eos>','<sos>'])\n",
    "\n",
    "# create a mapping from words to their indices\n",
    "word2idx = {}\n",
    "for i, word in enumerate(meta_seq):\n",
    "    word2idx[word] = i\n",
    "vocab_size = len(word2idx) + 1\n",
    "print('vocab size: ', vocab_size)\n",
    "# transform sequence of word tokens to sequence of word indices\n",
    "input_indices = []\n",
    "target_indices = []\n",
    "target_indices_input = [] #target indices to be fed to decoder for teacher forcing\n",
    "\n",
    "for seq in input_seq:\n",
    "    indices = []\n",
    "    for word in seq:\n",
    "        indices.append(word2idx[word])\n",
    "    input_indices.append(indices)\n",
    "\n",
    "for seq in target_seq:\n",
    "    indices = []\n",
    "    for word in seq:\n",
    "        indices.append(word2idx[word])\n",
    "    target_indices.append(indices + [word2idx['<eos>']])\n",
    "    target_indices_input.append([word2idx['<sos>']] + indices)\n",
    "\n",
    "\n",
    "# determine length of longest input and target sequence\n",
    "Tx = max(len(s) for s in input_indices)\n",
    "Ty = max(len(s) for s in target_indices) \n",
    "print('Tx: ', Tx)\n",
    "print('Ty: ', Ty)\n"
   ]
  },
  {
   "cell_type": "code",
   "execution_count": 6,
   "metadata": {
    "colab": {
     "base_uri": "https://localhost:8080/",
     "height": 51
    },
    "colab_type": "code",
    "id": "CqjDp64womie",
    "outputId": "a3167e1c-b111-4291-ca2b-eccd5a0c10c3"
   },
   "outputs": [
    {
     "name": "stdout",
     "output_type": "stream",
     "text": [
      "encoder_data.shape: (20000, 30)\n",
      "decoder_data.shape: (20000, 31)\n"
     ]
    }
   ],
   "source": [
    "# pad sequences \n",
    "encoder_inputs = pad_sequences(input_indices, maxlen=Tx)\n",
    "print(\"encoder_data.shape:\", encoder_inputs.shape)\n",
    "\n",
    "decoder_targets = pad_sequences(target_indices, maxlen=Ty, padding='post')\n",
    "\n",
    "decoder_inputs = pad_sequences(target_indices_input, maxlen=Ty, padding='post')\n",
    "print(\"decoder_data.shape:\", decoder_inputs.shape)"
   ]
  },
  {
   "cell_type": "code",
   "execution_count": 7,
   "metadata": {
    "colab": {
     "base_uri": "https://localhost:8080/",
     "height": 34
    },
    "colab_type": "code",
    "id": "S1God4-oomig",
    "outputId": "988f73f9-fbbf-459b-ff11-b3ec2099d73b"
   },
   "outputs": [
    {
     "name": "stdout",
     "output_type": "stream",
     "text": [
      "Found 400000 word vectors.\n"
     ]
    }
   ],
   "source": [
    "# create mapping from word to pretrained 100-dim word vector from glove \n",
    "word2vec = {}\n",
    "with open('glove/glove.6B.100d.txt') as f:\n",
    "    for line in f:\n",
    "        values = line.split()\n",
    "        word = values[0]\n",
    "        vec = np.asarray(values[1:], dtype='float32')\n",
    "        word2vec[word] = vec\n",
    "print('Found %s word vectors.' % len(word2vec))"
   ]
  },
  {
   "cell_type": "code",
   "execution_count": 8,
   "metadata": {
    "colab": {},
    "colab_type": "code",
    "id": "NrdED474omij"
   },
   "outputs": [],
   "source": [
    "# create embedding matrix\n",
    "embedding_matrix = np.zeros((vocab_size, EMBEDDING_DIM))\n",
    "for word, i in word2idx.items():\n",
    "    embedding_vector = word2vec.get(word)\n",
    "    if embedding_vector is not None:\n",
    "        embedding_matrix[i] = embedding_vector\n",
    "\n",
    "\n",
    "# create embedding layer\n",
    "embedding_layer = Embedding(\n",
    "  vocab_size,\n",
    "  EMBEDDING_DIM,\n",
    "  weights=[embedding_matrix],\n",
    "  trainable=False  \n",
    ")"
   ]
  },
  {
   "cell_type": "code",
   "execution_count": 9,
   "metadata": {
    "colab": {},
    "colab_type": "code",
    "id": "9tVSqNZ1omil"
   },
   "outputs": [],
   "source": [
    "# one-hot encode target sequences\n",
    "decoder_targets_oh = np.zeros(\n",
    "  (m, Ty, vocab_size),\n",
    "  dtype='float32'\n",
    ")\n",
    "\n",
    "for i, d in enumerate(decoder_targets):\n",
    "    for t, word in enumerate(d):\n",
    "        if word > 0:\n",
    "            decoder_targets_oh[i, t, word] = 1        "
   ]
  },
  {
   "cell_type": "code",
   "execution_count": 10,
   "metadata": {
    "colab": {},
    "colab_type": "code",
    "id": "T76FC_nromin"
   },
   "outputs": [],
   "source": [
    "# custom softmax(axis = 1)\n",
    "def softmax_over_time(x):\n",
    "    assert(K.ndim(x) > 2)\n",
    "    e = K.exp(x - K.max(x, axis=1, keepdims=True))\n",
    "    s = K.sum(e, axis=1, keepdims=True)\n",
    "    return e / s\n",
    "\n",
    "# set up encoder\n",
    "encoder_inputs_placeholder = Input(shape=(Tx,))\n",
    "x = embedding_layer(encoder_inputs_placeholder)\n",
    "encoder = Bidirectional(LSTM(\n",
    "  HIDDEN_DIM_ENCODER,\n",
    "  return_sequences=True,\n",
    "  dropout=0.5 \n",
    "))\n",
    "encoder_outputs = encoder(x)\n",
    "\n",
    "#pre attention decoder\n",
    "decoder_inputs_placeholder = Input(shape=(Ty,))\n",
    "decoder_inputs_x = embedding_layer(decoder_inputs_placeholder)\n",
    "\n",
    "# attention\n",
    "repeator = RepeatVector(Tx)\n",
    "concatenator = Concatenate(axis=-1)\n",
    "densor1 = Dense(10, activation='tanh')\n",
    "densor2 = Dense(1, activation = softmax_over_time)\n",
    "dotor = Dot(axes=1)\n",
    "\n",
    "def one_step_attention(h, s_prev):\n",
    "    \"\"\"\n",
    "    Arguments:\n",
    "    h -- hidden state returned by encoder (m, Tx, 2*HIDDEN_DIM_ENCODER)\n",
    "    s_prev -- previous hidden state of decoder (m, HIDDEN_DIM_DECODER)\n",
    "    \n",
    "    Returns: \n",
    "    context -- vector used as input to the next decoder cell\n",
    "    \"\"\"\n",
    "    s_prev = repeator(s_prev)\n",
    "    x = concatenator([h, s_prev])\n",
    "    x = densor1(x)\n",
    "    alphas = densor2(x)\n",
    "    context = dotor([alphas, h])\n",
    "\n",
    "    return context\n",
    "\n",
    "#post attention decoder\n",
    "decoder_lstm = LSTM(HIDDEN_DIM_DECODER, return_state=True)\n",
    "decoder_dense = Dense(vocab_size, activation='softmax')\n",
    "\n",
    "initial_s = Input(shape=(HIDDEN_DIM_DECODER,), name='s0')\n",
    "initial_c = Input(shape=(HIDDEN_DIM_DECODER,), name='c0')\n",
    "context_prev_word_concatenator = Concatenate(axis=2)"
   ]
  },
  {
   "cell_type": "code",
   "execution_count": 11,
   "metadata": {
    "colab": {},
    "colab_type": "code",
    "id": "yP2xEk03omip"
   },
   "outputs": [],
   "source": [
    "s = initial_s\n",
    "c = initial_c\n",
    "\n",
    "outputs = []\n",
    "for t in range(Ty): \n",
    "    context = one_step_attention(encoder_outputs, s)\n",
    "    selector = Lambda(lambda x: x[:, t:t+1])\n",
    "    prev_word = selector(decoder_inputs_x)\n",
    "    decoder_input = context_prev_word_concatenator([context, prev_word])\n",
    "    o, s, c = decoder_lstm(decoder_input, initial_state=[s,c])\n",
    "    decoder_outputs = decoder_dense(o)\n",
    "    outputs.append(decoder_outputs)\n",
    "\n",
    "def transpose(x):\n",
    "    \"\"\"\n",
    "    Argument: \n",
    "    x -- outputs of decoder (Ty, m, vocab_size_target)\n",
    "    \n",
    "    Returns:\n",
    "    x -- transposed version of outputs (m, Ty, vocab_size_target)\n",
    "    \"\"\"\n",
    "    \n",
    "    x = K.stack(x)\n",
    "    x = K.permute_dimensions(x, pattern=(1,0,2))\n",
    "    return x\n",
    "\n",
    "permuter = Lambda(transpose)\n",
    "outputs = permuter(outputs)\n",
    "\n",
    "model = Model(inputs=[encoder_inputs_placeholder, decoder_inputs_placeholder, initial_s, initial_c], outputs=outputs)\n",
    "\n",
    "def custom_loss(target, pred):\n",
    "    mask = K.cast(target > 0, dtype='float32')\n",
    "    res = mask * target * K.log(pred)\n",
    "    return -K.sum(res) / K.sum(mask)\n",
    "\n",
    "def acc(target, pred):\n",
    "    target_ = K.argmax(target, axis=-1)\n",
    "    pred_ = K.argmax(pred, axis=-1)\n",
    "    res = K.cast(K.equal(target_, pred_), dtype='float32')\n",
    "    #excluding padding from calculation\n",
    "    mask = K.cast(K.greater(target_, 0), dtype='float32')\n",
    "    res_correct = K.sum(mask * res)\n",
    "    res_total = K.sum(mask)\n",
    "    return res_correct / res_total\n",
    "    \n",
    "model.compile(optimizer='adam', loss=custom_loss, metrics=[acc])"
   ]
  },
  {
   "cell_type": "code",
   "execution_count": 13,
   "metadata": {
    "colab": {},
    "colab_type": "code",
    "id": "VV_u0HYIomis"
   },
   "outputs": [
    {
     "name": "stdout",
     "output_type": "stream",
     "text": [
      "Train on 16000 samples, validate on 4000 samples\n",
      "Epoch 1/50\n",
      "16000/16000 [==============================] - 708s 44ms/step - loss: 5.7441 - acc: 0.1594 - val_loss: 5.6160 - val_acc: 0.2025\n",
      "Epoch 2/50\n",
      "16000/16000 [==============================] - 694s 43ms/step - loss: 5.3869 - acc: 0.2086 - val_loss: 5.5482 - val_acc: 0.2051\n",
      "Epoch 3/50\n",
      "16000/16000 [==============================] - 697s 44ms/step - loss: 5.2724 - acc: 0.2108 - val_loss: 5.4531 - val_acc: 0.2087\n",
      "Epoch 4/50\n",
      "16000/16000 [==============================] - 698s 44ms/step - loss: 5.1552 - acc: 0.2141 - val_loss: 5.3199 - val_acc: 0.2087\n",
      "Epoch 5/50\n",
      "16000/16000 [==============================] - 697s 44ms/step - loss: 5.0104 - acc: 0.2183 - val_loss: 5.1642 - val_acc: 0.2246\n",
      "Epoch 6/50\n",
      "16000/16000 [==============================] - 697s 44ms/step - loss: 4.7784 - acc: 0.2399 - val_loss: 4.9098 - val_acc: 0.2529\n",
      "Epoch 7/50\n",
      "16000/16000 [==============================] - 698s 44ms/step - loss: 4.5295 - acc: 0.2653 - val_loss: 4.7557 - val_acc: 0.2666\n",
      "Epoch 8/50\n",
      "16000/16000 [==============================] - 698s 44ms/step - loss: 4.3348 - acc: 0.2798 - val_loss: 4.6726 - val_acc: 0.2781\n",
      "Epoch 9/50\n",
      "16000/16000 [==============================] - 698s 44ms/step - loss: 4.1794 - acc: 0.2898 - val_loss: 4.6277 - val_acc: 0.2856\n",
      "Epoch 10/50\n",
      "16000/16000 [==============================] - 699s 44ms/step - loss: 4.0383 - acc: 0.2980 - val_loss: 4.6076 - val_acc: 0.2925\n",
      "Epoch 11/50\n",
      "16000/16000 [==============================] - 702s 44ms/step - loss: 3.9023 - acc: 0.3036 - val_loss: 4.5970 - val_acc: 0.2950\n",
      "Epoch 12/50\n",
      "16000/16000 [==============================] - 699s 44ms/step - loss: 3.7634 - acc: 0.3089 - val_loss: 4.6061 - val_acc: 0.2973\n",
      "Epoch 13/50\n",
      "16000/16000 [==============================] - 699s 44ms/step - loss: 3.6248 - acc: 0.3143 - val_loss: 4.6296 - val_acc: 0.3010\n",
      "Epoch 14/50\n",
      "16000/16000 [==============================] - 700s 44ms/step - loss: 3.4840 - acc: 0.3214 - val_loss: 4.6532 - val_acc: 0.3017\n",
      "Epoch 15/50\n",
      "16000/16000 [==============================] - 700s 44ms/step - loss: 3.3419 - acc: 0.3335 - val_loss: 4.6872 - val_acc: 0.3011\n",
      "Epoch 16/50\n",
      "16000/16000 [==============================] - 702s 44ms/step - loss: 3.2052 - acc: 0.3498 - val_loss: 4.7292 - val_acc: 0.3022\n",
      "Epoch 17/50\n",
      "16000/16000 [==============================] - 699s 44ms/step - loss: 3.0804 - acc: 0.3665 - val_loss: 4.7658 - val_acc: 0.3025\n",
      "Epoch 18/50\n",
      "16000/16000 [==============================] - 699s 44ms/step - loss: 2.9612 - acc: 0.3811 - val_loss: 4.8077 - val_acc: 0.3012\n",
      "Epoch 19/50\n",
      "16000/16000 [==============================] - 699s 44ms/step - loss: 2.8498 - acc: 0.3953 - val_loss: 4.8454 - val_acc: 0.2997\n",
      "Epoch 20/50\n",
      "16000/16000 [==============================] - 701s 44ms/step - loss: 2.7467 - acc: 0.4097 - val_loss: 4.8912 - val_acc: 0.2974\n",
      "Epoch 21/50\n",
      "16000/16000 [==============================] - 699s 44ms/step - loss: 2.6485 - acc: 0.4243 - val_loss: 4.9419 - val_acc: 0.2975\n",
      "Epoch 22/50\n",
      "16000/16000 [==============================] - 699s 44ms/step - loss: 2.5565 - acc: 0.4381 - val_loss: 4.9933 - val_acc: 0.2941\n",
      "Epoch 23/50\n",
      "16000/16000 [==============================] - 699s 44ms/step - loss: 2.4623 - acc: 0.4519 - val_loss: 5.0470 - val_acc: 0.2930\n",
      "Epoch 24/50\n",
      "16000/16000 [==============================] - 701s 44ms/step - loss: 2.3770 - acc: 0.4662 - val_loss: 5.1155 - val_acc: 0.2912\n",
      "Epoch 25/50\n",
      "16000/16000 [==============================] - 701s 44ms/step - loss: 2.2902 - acc: 0.4813 - val_loss: 5.1588 - val_acc: 0.2857\n",
      "Epoch 26/50\n",
      "16000/16000 [==============================] - 700s 44ms/step - loss: 2.2063 - acc: 0.4946 - val_loss: 5.2127 - val_acc: 0.2850\n",
      "Epoch 27/50\n",
      "16000/16000 [==============================] - 700s 44ms/step - loss: 2.1253 - acc: 0.5105 - val_loss: 5.2826 - val_acc: 0.2835\n",
      "Epoch 28/50\n",
      "16000/16000 [==============================] - 701s 44ms/step - loss: 2.0458 - acc: 0.5252 - val_loss: 5.3551 - val_acc: 0.2786\n",
      "Epoch 29/50\n",
      "16000/16000 [==============================] - 702s 44ms/step - loss: 1.9693 - acc: 0.5396 - val_loss: 5.3989 - val_acc: 0.2773\n",
      "Epoch 30/50\n",
      "16000/16000 [==============================] - 699s 44ms/step - loss: 1.8906 - acc: 0.5560 - val_loss: 5.4707 - val_acc: 0.2731\n",
      "Epoch 31/50\n",
      "16000/16000 [==============================] - 699s 44ms/step - loss: 1.8176 - acc: 0.5707 - val_loss: 5.5345 - val_acc: 0.2703\n",
      "Epoch 32/50\n",
      "16000/16000 [==============================] - 700s 44ms/step - loss: 1.7483 - acc: 0.5860 - val_loss: 5.5935 - val_acc: 0.2672\n",
      "Epoch 33/50\n",
      "16000/16000 [==============================] - 699s 44ms/step - loss: 1.6751 - acc: 0.5997 - val_loss: 5.6694 - val_acc: 0.2675\n",
      "Epoch 34/50\n",
      "16000/16000 [==============================] - 699s 44ms/step - loss: 1.6088 - acc: 0.6155 - val_loss: 5.7531 - val_acc: 0.2668\n",
      "Epoch 35/50\n",
      "16000/16000 [==============================] - 700s 44ms/step - loss: 1.5444 - acc: 0.6296 - val_loss: 5.8152 - val_acc: 0.2617\n",
      "Epoch 36/50\n",
      "16000/16000 [==============================] - 700s 44ms/step - loss: 1.4808 - acc: 0.6449 - val_loss: 5.8709 - val_acc: 0.2570\n",
      "Epoch 37/50\n",
      "16000/16000 [==============================] - 699s 44ms/step - loss: 1.4194 - acc: 0.6584 - val_loss: 5.9461 - val_acc: 0.2523\n",
      "Epoch 38/50\n",
      "16000/16000 [==============================] - 699s 44ms/step - loss: 1.3556 - acc: 0.6731 - val_loss: 6.0153 - val_acc: 0.2533\n",
      "Epoch 39/50\n",
      "16000/16000 [==============================] - 700s 44ms/step - loss: 1.3020 - acc: 0.6850 - val_loss: 6.0923 - val_acc: 0.2538\n",
      "Epoch 40/50\n",
      "16000/16000 [==============================] - 699s 44ms/step - loss: 1.2430 - acc: 0.6994 - val_loss: 6.1575 - val_acc: 0.2499\n",
      "Epoch 41/50\n",
      "16000/16000 [==============================] - 700s 44ms/step - loss: 1.1889 - acc: 0.7133 - val_loss: 6.2400 - val_acc: 0.2491\n",
      "Epoch 42/50\n",
      "16000/16000 [==============================] - 700s 44ms/step - loss: 1.1384 - acc: 0.7251 - val_loss: 6.3029 - val_acc: 0.2467\n",
      "Epoch 43/50\n",
      "16000/16000 [==============================] - 701s 44ms/step - loss: 1.0880 - acc: 0.7367 - val_loss: 6.3838 - val_acc: 0.2434\n",
      "Epoch 44/50\n",
      "16000/16000 [==============================] - 700s 44ms/step - loss: 1.0411 - acc: 0.7478 - val_loss: 6.4443 - val_acc: 0.2388\n",
      "Epoch 45/50\n",
      "16000/16000 [==============================] - 701s 44ms/step - loss: 0.9907 - acc: 0.7614 - val_loss: 6.5223 - val_acc: 0.2443\n",
      "Epoch 46/50\n",
      "16000/16000 [==============================] - 700s 44ms/step - loss: 0.9496 - acc: 0.7708 - val_loss: 6.6132 - val_acc: 0.2396\n",
      "Epoch 47/50\n",
      "16000/16000 [==============================] - 699s 44ms/step - loss: 0.9063 - acc: 0.7814 - val_loss: 6.6626 - val_acc: 0.2373\n",
      "Epoch 48/50\n",
      "16000/16000 [==============================] - 699s 44ms/step - loss: 0.8656 - acc: 0.7919 - val_loss: 6.7237 - val_acc: 0.2339\n",
      "Epoch 49/50\n",
      "16000/16000 [==============================] - 703s 44ms/step - loss: 0.8250 - acc: 0.8018 - val_loss: 6.8084 - val_acc: 0.2327\n",
      "Epoch 50/50\n",
      "16000/16000 [==============================] - 702s 44ms/step - loss: 0.7851 - acc: 0.8126 - val_loss: 6.8639 - val_acc: 0.2338\n"
     ]
    }
   ],
   "source": [
    "\n",
    "#model = load_model('chatbot_model.h5', custom_objects={'softmax_over_time': softmax_over_time, 't': t})\n",
    "\n",
    "states = np.zeros((m, HIDDEN_DIM_DECODER)) #initial hidden state and cell state\n",
    "res = model.fit(\n",
    "    [encoder_inputs, decoder_inputs, states, states], decoder_targets_oh,\n",
    "    batch_size=BATCH_SIZE,\n",
    "    epochs=EPOCHS,\n",
    "    validation_split=0.2\n",
    ")"
   ]
  },
  {
   "cell_type": "code",
   "execution_count": 14,
   "metadata": {
    "colab": {},
    "colab_type": "code",
    "id": "3kCxQxCBpkp5"
   },
   "outputs": [],
   "source": [
    "model.save('model_50_epochs.h5')\n",
    "model.save_weights('model_50_epochs_weights')"
   ]
  },
  {
   "cell_type": "code",
   "execution_count": 15,
   "metadata": {},
   "outputs": [
    {
     "data": {
      "image/png": "[encoded data removed]",
      "text/plain": [
       "<Figure size 432x288 with 1 Axes>"
      ]
     },
     "metadata": {
      "needs_background": "light"
     },
     "output_type": "display_data"
    },
    {
     "data": {
      "image/png": "[encoded data removed]",
      "text/plain": [
       "<Figure size 432x288 with 1 Axes>"
      ]
     },
     "metadata": {
      "needs_background": "light"
     },
     "output_type": "display_data"
    }
   ],
   "source": [
    "#plotting training results\n",
    "plt.plot(res.history['loss'], label='loss')\n",
    "plt.plot(res.history['val_loss'], label='val_loss')\n",
    "plt.legend()\n",
    "plt.show()\n",
    "\n",
    "plt.plot(res.history['acc'], label='acc')\n",
    "plt.plot(res.history['val_acc'], label='val_acc')\n",
    "plt.legend()\n",
    "plt.show()"
   ]
  },
  {
   "cell_type": "code",
   "execution_count": 16,
   "metadata": {},
   "outputs": [],
   "source": [
    "#predictions model\n",
    "\n",
    "#standalone encoder model\n",
    "encoder_model = Model(encoder_inputs_placeholder, encoder_outputs)\n",
    "encoder_to_attention = Input(shape=(Tx, HIDDEN_DIM_ENCODER*2))\n",
    "\n",
    "decoder_inputs_single = Input(shape=(1,))\n",
    "decoder_inputs_single_x = embedding_layer(decoder_inputs_single)\n",
    "\n",
    "context = one_step_attention(encoder_to_attention, initial_s)\n",
    "decoder_lstm_input = context_prev_word_concatenator([context, decoder_inputs_single_x])\n",
    "\n",
    "o, s, c = decoder_lstm(decoder_lstm_input, initial_state=[initial_s, initial_c])\n",
    "decoder_outputs = decoder_dense(o)\n",
    "\n",
    "decoder_model = Model(inputs=[decoder_inputs_single, encoder_to_attention, initial_s, initial_c], outputs=[decoder_outputs, s, c])"
   ]
  },
  {
   "cell_type": "code",
   "execution_count": 17,
   "metadata": {},
   "outputs": [],
   "source": [
    "idx2word = {i:w for w, i in word2idx.items()}\n",
    "\n",
    "def predict_seq(input_seq):\n",
    "    encoder_out = encoder_model.predict(input_seq.reshape(1,Tx))\n",
    "    target_seq = np.zeros((1,1))\n",
    "    target_seq[0,0] = word2idx['<sos>']\n",
    "    \n",
    "    eos = word2idx['<eos>'] #break if eos \n",
    "    \n",
    "    s = np.zeros((1, HIDDEN_DIM_DECODER))\n",
    "    c = np.zeros((1, HIDDEN_DIM_DECODER))\n",
    "    \n",
    "    output_sentence = []\n",
    "    for _ in range(Ty):\n",
    "        o, s, c = decoder_model.predict([target_seq, encoder_out, s, c])\n",
    "        idx = np.argmax(o.flatten())\n",
    "        if idx == eos:\n",
    "            break\n",
    "        word = ''\n",
    "        if idx > 0:\n",
    "            word = idx2word[idx]\n",
    "            output_sentence.append(word)\n",
    "        target_seq[0,0] = idx\n",
    "        \n",
    "    return ' '.join(output_sentence)"
   ]
  },
  {
   "cell_type": "code",
   "execution_count": 18,
   "metadata": {},
   "outputs": [],
   "source": [
    "test_csv = pd.read_csv('data/test_data.csv')\n",
    "test_texts = test_csv['Inputs'].to_list()\n",
    "test_seq = [word_tokenize(i) for i in test_texts]\n",
    "test_indices = []\n",
    "for seq in test_seq:\n",
    "    indices = []\n",
    "    for word in seq:\n",
    "        if word not in word2idx:\n",
    "            indices.append(0)\n",
    "        else:\n",
    "            indices.append(word2idx[word])\n",
    "    test_indices.append(indices)\n",
    "test_inputs = pad_sequences(test_indices, maxlen=Tx)"
   ]
  },
  {
   "cell_type": "code",
   "execution_count": 23,
   "metadata": {},
   "outputs": [],
   "source": [
    "test_outputs = []\n",
    "for i in test_inputs:\n",
    "    test_outputs.append(predict_seq(i))\n",
    "    \n",
    "df_test = pd.DataFrame({'inputs': test_texts, 'outputs': test_outputs})\n",
    "df_test.to_csv('model_outputs.csv')"
   ]
  }
 ],
 "metadata": {
  "accelerator": "GPU",
  "colab": {
   "machine_shape": "hm",
   "name": "Model.ipynb",
   "provenance": []
  },
  "kernelspec": {
   "display_name": "Python 3",
   "language": "python",
   "name": "python3"
  },
  "language_info": {
   "codemirror_mode": {
    "name": "ipython",
    "version": 3
   },
   "file_extension": ".py",
   "mimetype": "text/x-python",
   "name": "python",
   "nbconvert_exporter": "python",
   "pygments_lexer": "ipython3",
   "version": "3.7.6"
  }
 },
 "nbformat": 4,
 "nbformat_minor": 1
}
